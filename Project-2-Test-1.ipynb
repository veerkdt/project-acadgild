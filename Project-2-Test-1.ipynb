{
 "cells": [
  {
   "cell_type": "code",
   "execution_count": 1,
   "metadata": {},
   "outputs": [
    {
     "name": "stdout",
     "output_type": "stream",
     "text": [
      "Enter the input stringinput STRINg ENCRYption & decryPTION 1234 %-#@\n",
      "\n",
      " Input String is :\tinput STRINg ENCRYption & decryPTION 1234 %-#@\n",
      "\n",
      "Encryption vaue of given string is :\tJOQVU 342tyH pyn29QUJPO & EFDSZ04tzy cdef %-#@\n",
      "\n",
      "Decryption vaue of given string is :\tinput STRINg ENCRYption & decryPTION 1234 %-#@\n"
     ]
    }
   ],
   "source": [
    "\"\"\"\n",
    "1. Write a program in Python with one class called Cipher.Within the constructor of this class, ask user for a string\n",
    "and store it. Use a static variable, key to store a randomly generated integer between 1 and 50 inclusive. Implement\n",
    "two methods, encrypt and decrypt within this class. Encrypt generates and prints a cipher text using the user-entered\n",
    "string and the key and decrypt generates decrypted string from ciphertext. The cipher only encrypts alpha and\n",
    "numeric (A-Z, a-z, 0-9). All Symbols, such as - , ; %, remain unencrypted. The cipher text can have special characters.\n",
    "Use generator expression to filter out alpha and numeric characters of the input string and to generate cipher text.\n",
    "Create an instance of this class, encrypt and decrypt back the user entered string.\n",
    "\n",
    "\"\"\"\n",
    "import numpy as np\n",
    "# defining a class in a better way \n",
    "class Cipher:\n",
    "    L2I = dict(zip(\"ABCDEFGHIJKLMNOPQRSTUVWXYZabcdefghijklmnopqrstuvwxyz0123456789\",range(62)))\n",
    "    I2L = dict(zip(range(62),\"ABCDEFGHIJKLMNOPQRSTUVWXYZabcdefghijklmnopqrstuvwxyz0123456789\"))\n",
    "    # constructor initialization\n",
    "    def __init__(self,instr=\"\"): \n",
    "        self.Instr=str(input(\"Enter the input string\"))\n",
    "    def encrypt(self,key):\n",
    "        L2I = dict(zip(\"ABCDEFGHIJKLMNOPQRSTUVWXYZabcdefghijklmnopqrstuvwxyz0123456789\",range(62)))\n",
    "        I2L = dict(zip(range(62),\"ABCDEFGHIJKLMNOPQRSTUVWXYZabcdefghijklmnopqrstuvwxyz0123456789\"))\n",
    "        ciphertext = \"\"\n",
    "        Instr=self.Instr\n",
    "        for c in Instr:\n",
    "            if c.isalnum(): ciphertext += I2L[ (L2I[c] + key)%62 ]\n",
    "            else: ciphertext += c\n",
    "        return ciphertext\n",
    "    def decrypt(self,Enstr,key):\n",
    "        L2I = dict(zip(\"ABCDEFGHIJKLMNOPQRSTUVWXYZabcdefghijklmnopqrstuvwxyz0123456789\",range(62)))\n",
    "        I2L = dict(zip(range(62),\"ABCDEFGHIJKLMNOPQRSTUVWXYZabcdefghijklmnopqrstuvwxyz0123456789\"))\n",
    "        plaintext2 = \"\"\n",
    "        for c in Enstr:\n",
    "            if c.isalnum(): plaintext2 += I2L[ (L2I[c] - key)%62]\n",
    "            else: plaintext2 += c\n",
    "        return plaintext2\n",
    "\n",
    "k=np.random.randint(1,50,1)\n",
    "key=k[0]\n",
    "c=Cipher()\n",
    "encryptstr=c.encrypt(key)\n",
    "decryptstr=c.decrypt(encryptstr,key)\n",
    "print(\"\\n Input String is :\\t\"+c.Instr)\n",
    "print(\"\\nEncryption vaue of given string is :\\t\"+encryptstr)\n",
    "print(\"\\nDecryption vaue of given string is :\\t\"+decryptstr)"
   ]
  },
  {
   "cell_type": "code",
   "execution_count": null,
   "metadata": {},
   "outputs": [],
   "source": []
  }
 ],
 "metadata": {
  "kernelspec": {
   "display_name": "Python 3",
   "language": "python",
   "name": "python3"
  },
  "language_info": {
   "codemirror_mode": {
    "name": "ipython",
    "version": 3
   },
   "file_extension": ".py",
   "mimetype": "text/x-python",
   "name": "python",
   "nbconvert_exporter": "python",
   "pygments_lexer": "ipython3",
   "version": "3.7.0"
  }
 },
 "nbformat": 4,
 "nbformat_minor": 2
}
